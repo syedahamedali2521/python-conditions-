{
  "nbformat": 4,
  "nbformat_minor": 0,
  "metadata": {
    "colab": {
      "provenance": []
    },
    "kernelspec": {
      "name": "python3",
      "display_name": "Python 3"
    },
    "language_info": {
      "name": "python"
    }
  },
  "cells": [
    {
      "cell_type": "code",
      "execution_count": 6,
      "metadata": {
        "colab": {
          "base_uri": "https://localhost:8080/"
        },
        "id": "8CKkF574DKKN",
        "outputId": "206df19e-50eb-43a8-83c4-661f0edd68b9"
      },
      "outputs": [
        {
          "output_type": "stream",
          "name": "stdout",
          "text": [
            "Enter the age of person25\n",
            "eligible to vote\n"
          ]
        }
      ],
      "source": [
        "#code for if Condition to Check ,whether the person is eligible to vote or not\n",
        "age=int(input(\"Enter the age of person\"))\n",
        "if(age>=18):\n",
        "  print(\"eligible to vote\")"
      ]
    },
    {
      "cell_type": "code",
      "source": [
        "char=input(\"press any key:\")\n",
        "if char.isalpha():\n",
        "  print(char,\"is a character\")\n",
        "if char.isdigit():\n",
        "  print(char,\"is a digit\")\n",
        "if char.isspace():\n",
        "  print(char,\"is a space\")"
      ],
      "metadata": {
        "colab": {
          "base_uri": "https://localhost:8080/"
        },
        "id": "FANc454LLPWW",
        "outputId": "3754c3a3-9f12-465d-806a-d095d7879516"
      },
      "execution_count": 3,
      "outputs": [
        {
          "output_type": "stream",
          "name": "stdout",
          "text": [
            "press any key:r\n",
            "r is a character\n"
          ]
        }
      ]
    },
    {
      "cell_type": "code",
      "source": [
        "#code to check is a positive to or not\n",
        "num=int(input(\"Enter the number\"))\n",
        "if(num>0):\n",
        "  print(num,\"is a positive number\")\n",
        "if num==0:\n",
        "  print(num,\"is zero\")\n",
        "if num<0:\n",
        "  print(num,\"is a negative number\")"
      ],
      "metadata": {
        "colab": {
          "base_uri": "https://localhost:8080/"
        },
        "id": "Dk7EpvnRNK2H",
        "outputId": "d3ab471d-3c62-41f3-eb9b-600f02e6c7b1"
      },
      "execution_count": 5,
      "outputs": [
        {
          "output_type": "stream",
          "name": "stdout",
          "text": [
            "Enter the number0\n",
            "0 is zero\n"
          ]
        }
      ]
    },
    {
      "cell_type": "code",
      "source": [
        "#if -else\n",
        "age=int(input(\"Enter the age of person\"))\n",
        "if(age>=18):\n",
        "  print(\"eligible to vote\")\n",
        "else:\n",
        "  print(\"not eligible to vote\")"
      ],
      "metadata": {
        "colab": {
          "base_uri": "https://localhost:8080/"
        },
        "id": "97WYUjWyO1cY",
        "outputId": "20fd5ab1-7da5-4bdb-eaaa-c2bab4014685"
      },
      "execution_count": 7,
      "outputs": [
        {
          "output_type": "stream",
          "name": "stdout",
          "text": [
            "Enter the age of person45\n",
            "eligible to vote\n"
          ]
        }
      ]
    },
    {
      "cell_type": "code",
      "source": [
        "#check num is even or mum using if-else\n",
        "num=int(input(\"Enter the number\"))\n",
        "if(num%2==0):\n",
        "  print(num,\"is even number\")\n",
        "else:\n",
        "  print(num,\"is odd number\")"
      ],
      "metadata": {
        "colab": {
          "base_uri": "https://localhost:8080/"
        },
        "id": "ljbjdCkcPP_3",
        "outputId": "3a28717c-3048-450c-e4d5-df04cb3aacb5"
      },
      "execution_count": 8,
      "outputs": [
        {
          "output_type": "stream",
          "name": "stdout",
          "text": [
            "Enter the number9\n",
            "9 is odd number\n"
          ]
        }
      ]
    },
    {
      "cell_type": "code",
      "source": [
        "#program to enter any character .if the enter character in lowercase than convert the char into upper case and viceversa\n",
        "ch=input(\"Enter the character from a to z : \")\n",
        "if ch>='A' and ch<='Z':\n",
        "  ch=ch.lower()\n",
        "  print(\"the enter character was in uppercase...lower:\" +ch)\n",
        "else:\n",
        "  ch=ch.upper()\n",
        "  print(\"the enter character was in uppercase...lower\"  +ch)"
      ],
      "metadata": {
        "colab": {
          "base_uri": "https://localhost:8080/"
        },
        "id": "volgkSJkP_HW",
        "outputId": "050ed568-8b11-4821-9ebc-cbf7d5d6a8b3"
      },
      "execution_count": 11,
      "outputs": [
        {
          "output_type": "stream",
          "name": "stdout",
          "text": [
            "Enter the character from a to z : Y\n",
            "the enter character was in uppercase...lower:y\n"
          ]
        }
      ]
    },
    {
      "cell_type": "code",
      "source": [
        "#code for checking the interval of a given number\n",
        "num=int(input(\"Enter the number:\"))\n",
        "if num>=0 and num<=10:\n",
        "  print(num,\"is in range of 0-10\")\n",
        "elif num>=11 and num<=20:\n",
        "  print(num,\"is in range of 11-20\")\n",
        "elif num>=21 and num<=30:\n",
        "  print(num,\"is in range of 21-30\")\n",
        "else:\n",
        "  print(num,\"is not in range\")"
      ],
      "metadata": {
        "colab": {
          "base_uri": "https://localhost:8080/"
        },
        "id": "RmvjQDEYUNj3",
        "outputId": "13b5c35b-559b-45e4-e583-9996e48ccf7b"
      },
      "execution_count": 15,
      "outputs": [
        {
          "output_type": "stream",
          "name": "stdout",
          "text": [
            "Enter the number:12\n",
            "12 is in range of 11-20\n"
          ]
        }
      ]
    },
    {
      "cell_type": "code",
      "source": [
        "# check a number is positive negative and zero using if-elif-else\n",
        "num=int(input(\"Enter a num :\"))\n",
        "if num>0:\n",
        "    print(\"Number is positive\")\n",
        "elif num<0:\n",
        "    print(\"Number is negative\")\n",
        "else:\n",
        "    print(\"Number is zero\")"
      ],
      "metadata": {
        "colab": {
          "base_uri": "https://localhost:8080/"
        },
        "id": "mO3Xb9WeWxBZ",
        "outputId": "5363c970-6f34-4a89-9e1c-f273d16e1209"
      },
      "execution_count": 16,
      "outputs": [
        {
          "output_type": "stream",
          "name": "stdout",
          "text": [
            "Enter a num :34\n",
            "Number is positive\n"
          ]
        }
      ]
    },
    {
      "cell_type": "code",
      "source": [
        "#printing the whole numbers till n\n",
        "n =int(input(\"Enter the number :\"))\n",
        "loop=0\n",
        "while loop<=n:\n",
        "  print(loop,end=\"  \" )\n",
        "  loop+=1\n"
      ],
      "metadata": {
        "colab": {
          "base_uri": "https://localhost:8080/"
        },
        "id": "Rcc-P81fX3vH",
        "outputId": "3c58e5cf-a264-488a-f8c3-6afd9a1f5303"
      },
      "execution_count": 25,
      "outputs": [
        {
          "output_type": "stream",
          "name": "stdout",
          "text": [
            "Enter the number :5\n",
            "0  1  2  3  4  5  "
          ]
        }
      ]
    },
    {
      "cell_type": "code",
      "source": [
        "#printing a reverse of numbers using while\n",
        "n=int(input(\"Enter the number :\"))\n",
        "while n>=0:\n",
        "  print(n,end=\" \")\n",
        "  n-=1"
      ],
      "metadata": {
        "colab": {
          "base_uri": "https://localhost:8080/"
        },
        "id": "c-hw4IBfa9Ap",
        "outputId": "94f04a02-8fdc-4590-cf92-f9e5951244cf"
      },
      "execution_count": 27,
      "outputs": [
        {
          "output_type": "stream",
          "name": "stdout",
          "text": [
            "Enter the number :5\n",
            "5 4 3 2 1 0 "
          ]
        }
      ]
    },
    {
      "cell_type": "code",
      "source": [
        "#printing even numbers using while loop\n",
        "n=int(input(\"Enter the number :\"))\n",
        "i=0\n",
        "while i<=n:\n",
        "  if i%2==0:\n",
        "    print(i, end=\"  \")\n",
        "  i+=1"
      ],
      "metadata": {
        "colab": {
          "base_uri": "https://localhost:8080/"
        },
        "id": "WMhUXsKEhac4",
        "outputId": "59f08ad1-3f95-468f-8536-f4e887f92f53"
      },
      "execution_count": 31,
      "outputs": [
        {
          "output_type": "stream",
          "name": "stdout",
          "text": [
            "Enter the number :6\n",
            "0  2  4  6  "
          ]
        }
      ]
    },
    {
      "cell_type": "code",
      "source": [
        "#printing odd numbers using while loop\n",
        "n=int(input(\"Enter the number :\"))\n",
        "i=0\n",
        "while i<=n:\n",
        "  if i%2!=0:\n",
        "    print(i, end=\"  \")\n",
        "  i+=1"
      ],
      "metadata": {
        "colab": {
          "base_uri": "https://localhost:8080/"
        },
        "id": "HONTPf-OiTrB",
        "outputId": "4964ba6e-89d2-441e-e326-005687f67cdd"
      },
      "execution_count": 32,
      "outputs": [
        {
          "output_type": "stream",
          "name": "stdout",
          "text": [
            "Enter the number :6\n",
            "1  3  5  "
          ]
        }
      ]
    },
    {
      "cell_type": "code",
      "source": [
        "''' program  to read the number untill -1 encountered.also count negatives,positives and zeros entered by the user '''\n",
        "n=p=Z=0\n",
        "print(\"enter -1 to exit!!!\")\n",
        "while(1):\n",
        "  num=int(input(\"Enter the number :\"))\n",
        "  if num==-1:\n",
        "    break\n",
        "  if num==0:\n",
        "    Z+=1\n",
        "  elif num>0:\n",
        "    p+=1\n",
        "  else:\n",
        "    n+=1\n",
        "print(\"count of positives entered:\",p)\n",
        "print(\"count of negatives entered:\",n)\n",
        "print(\"count of zeros entered:\",Z)\n"
      ],
      "metadata": {
        "colab": {
          "base_uri": "https://localhost:8080/"
        },
        "id": "ijkvSXfaid0w",
        "outputId": "dc96875d-eed1-4d78-f898-97ec33e2fc68"
      },
      "execution_count": 33,
      "outputs": [
        {
          "output_type": "stream",
          "name": "stdout",
          "text": [
            "enter -1 to exit!!!\n",
            "Enter the number :23\n",
            "Enter the number :-69\n",
            "Enter the number :60\n",
            "Enter the number :34\n",
            "Enter the number :0\n",
            "Enter the number :-75\n",
            "Enter the number :-1\n",
            "count of positives entered: 3\n",
            "count of negatives entered: 2\n",
            "count of zeros entered: 1\n"
          ]
        }
      ]
    },
    {
      "cell_type": "code",
      "source": [
        "#printing binary number to decimal number using constrains\n",
        "bnum=int(input(\"Enter a binary numbers\"))\n",
        "dnum=i=0\n",
        "while bnum!=0:\n",
        "  r=bnum%10\n",
        "  dnum=dnum+r*(2**i)\n",
        "  bnum//=10\n",
        "  i+=1\n",
        "print(\"decimal equaivalent:\",dnum)\n"
      ],
      "metadata": {
        "colab": {
          "base_uri": "https://localhost:8080/"
        },
        "id": "qaPuNb-Cnvfh",
        "outputId": "336d5b32-6817-40d7-c30c-9bca026e8b1f"
      },
      "execution_count": 38,
      "outputs": [
        {
          "output_type": "stream",
          "name": "stdout",
          "text": [
            "Enter a binary numbers1101\n",
            "decimal equaivalent: 13\n"
          ]
        }
      ]
    }
  ]
}